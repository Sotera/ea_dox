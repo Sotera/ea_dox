{
 "cells": [
  {
   "cell_type": "code",
   "execution_count": null,
   "metadata": {
    "collapsed": true
   },
   "outputs": [],
   "source": [
    "#Notebook to determine which files are row based and read them in.  From there, other anaytics \n",
    "#and schema alignment can be performed."
   ]
  },
  {
   "cell_type": "code",
   "execution_count": null,
   "metadata": {
    "collapsed": true
   },
   "outputs": [],
   "source": [
    "import os\n",
    "import pandas as pd\n",
    "\n",
    "\n"
   ]
  },
  {
   "cell_type": "code",
   "execution_count": null,
   "metadata": {
    "collapsed": false
   },
   "outputs": [],
   "source": [
    "#make a list of the top level files and folders in the directory\n",
    "allFiles = os.listdir('../dumps/')\n",
    "print len(allFiles)"
   ]
  },
  {
   "cell_type": "code",
   "execution_count": null,
   "metadata": {
    "collapsed": false
   },
   "outputs": [],
   "source": [
    "#determine which files are most likely row based and contain e-mail addresses\n",
    "def isRowEmail(fileName):\n",
    "    #open file\n",
    "    k = 0\n",
    "    result = False\n",
    "    try:\n",
    "        with open(fileName,'r') as fp:\n",
    "            for i in range(10):\n",
    "                line = fp.readline()\n",
    "                if ('@' in line):\n",
    "                    k+=1\n",
    "                    #print line\n",
    "    except:\n",
    "        pass\n",
    "    if k>6:\n",
    "        result = True\n",
    "    #check for presence of @ symbol on 6/10 consecutive lines\n",
    "    \n",
    "    return result"
   ]
  },
  {
   "cell_type": "code",
   "execution_count": null,
   "metadata": {
    "collapsed": false,
    "scrolled": true
   },
   "outputs": [],
   "source": []
  },
  {
   "cell_type": "code",
   "execution_count": null,
   "metadata": {
    "collapsed": false
   },
   "outputs": [],
   "source": [
    "#brief survey of file contents\n",
    "fileNo = 2\n",
    "fileName = '../dumps/'+allFiles[fileNo]\n",
    "result = isRowEmail(fileName)\n",
    "print allFiles[fileNo] + ' ' + str(result)"
   ]
  },
  {
   "cell_type": "code",
   "execution_count": null,
   "metadata": {
    "collapsed": false,
    "scrolled": false
   },
   "outputs": [],
   "source": [
    "#brief survey of file contents\n",
    "for i in range(100):\n",
    "    fileName = '../dumps/'+allFiles[i]\n",
    "    result = isRowEmail(fileName)\n",
    "    print allFiles[i] + ' ' + str(result)"
   ]
  },
  {
   "cell_type": "code",
   "execution_count": null,
   "metadata": {
    "collapsed": false,
    "scrolled": true
   },
   "outputs": [],
   "source": [
    "for i in range(200):\n",
    "    fileName = '../dumps/'+allFiles[i]\n",
    "    result = isRowEmail(fileName)\n",
    "    if result == True:\n",
    "        print allFiles[i] + ' ' + str(isRowEmail('../dumps/'+allFiles[i]))\n",
    "        try:\n",
    "            A = pd.read_csv(fileName,header=None,sep=None)\n",
    "#            A = pd.read_csv(fileName, encoding='utf-8-sig',header=None,sep=None)\n",
    "            #print A.head()\n",
    "            print allFiles[i] + ' ' + 'successfully ingested'\n",
    "        except:\n",
    "            pass\n",
    "         \n",
    "    "
   ]
  },
  {
   "cell_type": "code",
   "execution_count": null,
   "metadata": {
    "collapsed": false
   },
   "outputs": [],
   "source": [
    "#examine a file that's tricky to parse\n",
    "#pandas got it\n",
    "#some files have encoding which pandas requires hints at figuring out\n",
    "A"
   ]
  },
  {
   "cell_type": "code",
   "execution_count": null,
   "metadata": {
    "collapsed": false
   },
   "outputs": [],
   "source": []
  },
  {
   "cell_type": "code",
   "execution_count": null,
   "metadata": {
    "collapsed": false
   },
   "outputs": [],
   "source": []
  },
  {
   "cell_type": "code",
   "execution_count": null,
   "metadata": {
    "collapsed": true
   },
   "outputs": [],
   "source": []
  },
  {
   "cell_type": "code",
   "execution_count": null,
   "metadata": {
    "collapsed": false
   },
   "outputs": [],
   "source": []
  },
  {
   "cell_type": "code",
   "execution_count": null,
   "metadata": {
    "collapsed": true
   },
   "outputs": [],
   "source": []
  }
 ],
 "metadata": {
  "kernelspec": {
   "display_name": "Python 2",
   "language": "python",
   "name": "python2"
  },
  "language_info": {
   "codemirror_mode": {
    "name": "ipython",
    "version": 2
   },
   "file_extension": ".py",
   "mimetype": "text/x-python",
   "name": "python",
   "nbconvert_exporter": "python",
   "pygments_lexer": "ipython2",
   "version": "2.7.12"
  }
 },
 "nbformat": 4,
 "nbformat_minor": 0
}
